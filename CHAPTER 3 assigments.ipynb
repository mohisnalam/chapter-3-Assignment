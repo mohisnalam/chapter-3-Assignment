{
 "cells": [
  {
   "cell_type": "code",
   "execution_count": 12,
   "metadata": {},
   "outputs": [
    {
     "name": "stdout",
     "output_type": "stream",
     "text": [
      "Enter the user name: osama\n",
      "unknown.\n",
      "done.\n"
     ]
    }
   ],
   "source": [
    "##problem 3.1\n",
    "string = (input('Enter the user name: '))\n",
    "\n",
    "x=('joe','sue','hani','sophine')\n",
    "\n",
    "if string in 'x':\n",
    "    print('you are in!')  \n",
    "else: \n",
    "    print('unknown.')  \n",
    "    print('done.') "
   ]
  },
  {
   "cell_type": "code",
   "execution_count": 38,
   "metadata": {},
   "outputs": [
    {
     "name": "stdout",
     "output_type": "stream",
     "text": [
      "enter the year no of days  365\n",
      "Could be a leap year!\n",
      "enter your ticket number 102\n",
      "better luck next time!\n"
     ]
    }
   ],
   "source": [
    "##problem 3.2\n",
    "##part a\n",
    "year=eval(input('enter the year no of days  '))\n",
    "\n",
    "if year / 4:\n",
    "   \n",
    "    print('Could be a leap year!')\n",
    "\n",
    "else:\n",
    "   \n",
    "    print(' Deﬁnitely not a leap year!')  \n",
    "    \n",
    "##part b \n",
    "ticket_list=eval(input('enter your ticket number '))\n",
    " \n",
    "lottery=('101','102','103','104','105')\n",
    "\n",
    "if ticket_list in lottery:\n",
    "    \n",
    "    print(\"you won!\")\n",
    "else:\n",
    "    print('better luck next time!')"
   ]
  },
  {
   "cell_type": "code",
   "execution_count": 43,
   "metadata": {},
   "outputs": [
    {
     "name": "stdout",
     "output_type": "stream",
     "text": [
      "enter your age:65\n",
      "you can get your pension benifits\n",
      "enter your name:Musial\n",
      "One of the top 5  baseball player,ever! \n"
     ]
    }
   ],
   "source": [
    "##problem3.3\n",
    "age=eval(input('enter your age:'))\n",
    "if age> 62:\n",
    "    print('you can get your pension benifits')\n",
    "##part b\n",
    "name=(input('enter your name:'))\n",
    "\n",
    "list_1=('Musial','aaraon','williams','gegrig',)\n",
    "\n",
    "if name in list_1:\n",
    "    print('One of the top 5  baseball player,ever! ')"
   ]
  },
  {
   "cell_type": "code",
   "execution_count": 46,
   "metadata": {},
   "outputs": [
    {
     "name": "stdout",
     "output_type": "stream",
     "text": [
      "enter the tempeture in Fahrenheit:50\n",
      "tempeture in degree centigrades: 10.0\n"
     ]
    }
   ],
   "source": [
    "##problem3.4\n",
    "fahrenheit=eval(input('enter the tempeture in Fahrenheit:'))\n",
    "celsius=5/9*(fahrenheit-32)\n",
    "print('tempeture in degree centigrades:',celsius)"
   ]
  },
  {
   "cell_type": "code",
   "execution_count": 48,
   "metadata": {},
   "outputs": [
    {
     "name": "stdout",
     "output_type": "stream",
     "text": [
      "enter your name:MUHAMMAD MOHSIN ALAM\n",
      "M\n",
      "U\n",
      "H\n",
      "A\n",
      "M\n",
      "M\n",
      "A\n",
      "D\n",
      " \n",
      "M\n",
      "O\n",
      "H\n",
      "S\n",
      "I\n",
      "N\n",
      " \n",
      "A\n",
      "L\n",
      "A\n",
      "M\n"
     ]
    }
   ],
   "source": [
    "##problem 3.5\n",
    "name=input('enter your name:')\n",
    "for char in name:\n",
    "    print(char)"
   ]
  },
  {
   "cell_type": "code",
   "execution_count": 56,
   "metadata": {},
   "outputs": [
    {
     "name": "stdout",
     "output_type": "stream",
     "text": [
      "number: 0\n",
      "number: 1\n",
      "number: 2\n",
      "number: 3\n",
      "number: 4\n",
      "difference of 6: 0\n",
      "difference of 6: 6\n",
      "difference of 6: 12\n",
      "difference of 6: 18\n"
     ]
    }
   ],
   "source": [
    "##PROBLEM3.6\n",
    "for i in range(0,5):\n",
    "    print(\"number:\",i)\n",
    "    \n",
    "###part b\n",
    "for i in range(0,24,6):\n",
    "    print(\"difference of 6:\",i)"
   ]
  },
  {
   "cell_type": "code",
   "execution_count": 57,
   "metadata": {},
   "outputs": [
    {
     "data": {
      "text/plain": [
       "96"
      ]
     },
     "execution_count": 57,
     "metadata": {},
     "output_type": "execute_result"
    }
   ],
   "source": [
    "##problems3.7\n",
    "len('mohsinalam')\n",
    "##partb\n",
    "\n",
    "sum([5,6,7,8,9,8,7,6,5,4,3,2,3,2,1,2,3,4,5,6])\n"
   ]
  },
  {
   "cell_type": "code",
   "execution_count": 20,
   "metadata": {},
   "outputs": [
    {
     "data": {
      "text/plain": [
       "1.8333333333333333"
      ]
     },
     "execution_count": 20,
     "metadata": {},
     "output_type": "execute_result"
    }
   ],
   "source": [
    "##problem3.8\n",
    "(5+6)/6"
   ]
  },
  {
   "cell_type": "code",
   "execution_count": 24,
   "metadata": {},
   "outputs": [
    {
     "data": {
      "text/plain": [
       "14"
      ]
     },
     "execution_count": 24,
     "metadata": {},
     "output_type": "execute_result"
    }
   ],
   "source": [
    "##problem3.9\n",
    "sum([8, 0, -2, 4, -6, 10])"
   ]
  },
  {
   "cell_type": "code",
   "execution_count": 40,
   "metadata": {
    "scrolled": true
   },
   "outputs": [
    {
     "data": {
      "text/plain": [
       "3"
      ]
     },
     "execution_count": 40,
     "metadata": {},
     "output_type": "execute_result"
    }
   ],
   "source": [
    "##problem3.10\n",
    "\n",
    "len('mohsin')\n",
    "\n",
    "##part b\n",
    "len(['cat','cow','duck'])"
   ]
  },
  {
   "cell_type": "code",
   "execution_count": 94,
   "metadata": {},
   "outputs": [
    {
     "name": "stdout",
     "output_type": "stream",
     "text": [
      "list d : [2, 3, 4, 7, 6, 7]\n"
     ]
    }
   ],
   "source": [
    "###problem3.11\n",
    "d=[2,3,4,5,6,7]\n",
    "d[3] = 7 \n",
    "print('list d :',d)"
   ]
  },
  {
   "cell_type": "code",
   "execution_count": 93,
   "metadata": {},
   "outputs": [
    {
     "name": "stdout",
     "output_type": "stream",
     "text": [
      "After updating: 3\n",
      "After updating team: ['Sarah', 'Eleanor', 'Clare', 'Ava']\n"
     ]
    }
   ],
   "source": [
    "##problems3.12\n",
    "a = 6 \n",
    "b = 3 \n",
    "a, b = b, a \n",
    "print('After updating:',a )\n",
    "##partb\n",
    "team = ['Ava', 'Eleanor', 'Clare', 'Sarah']\n",
    "team[0],team[-1]=team[-1],team[0]\n",
    "print('After updating team:',team)"
   ]
  },
  {
   "cell_type": "code",
   "execution_count": 92,
   "metadata": {},
   "outputs": [
    {
     "name": "stdout",
     "output_type": "stream",
     "text": [
      "Enter your number :-5\n",
      "Enter your number :56\n",
      "Enter your number :-4\n",
      "Enter your number :-37\n",
      "Enter your number :-346\n",
      "-5\n",
      "-4\n",
      "-37\n",
      "-346\n"
     ]
    }
   ],
   "source": [
    "##problem3.13\n",
    "def negatives():\n",
    "    x=[0,0,0,0,0]\n",
    "    for i in range(5):\n",
    "        x[i]=int(input(\"Enter your number :\"))\n",
    "    for i in x:\n",
    "        if i<0:\n",
    "            print(i)\n",
    "            \n",
    "negatives()\n"
   ]
  },
  {
   "cell_type": "code",
   "execution_count": 2,
   "metadata": {
    "scrolled": true
   },
   "outputs": [
    {
     "name": "stdout",
     "output_type": "stream",
     "text": [
      "Enter a Number : 2\n",
      "Enter a Number : 3\n",
      "Enter a Number : 4\n",
      "Enter a Number : 5\n",
      "Enter a Number : 6\n",
      "Enter a Number : 7\n"
     ]
    },
    {
     "data": {
      "text/plain": [
       "'true'"
      ]
     },
     "execution_count": 2,
     "metadata": {},
     "output_type": "execute_result"
    }
   ],
   "source": [
    "##problem3.14\n",
    "def even():\n",
    "    x = [0,0,0,0,0,0]\n",
    "    for i in range(6):\n",
    "        x[i] = int(input(\"Enter a Number : \"))\n",
    "    for i in x:  \n",
    "        if i%2!=0:\n",
    "            return 'false'\n",
    "        return 'true'\n",
    "even()\n"
   ]
  },
  {
   "cell_type": "markdown",
   "metadata": {},
   "source": [
    "#### problem3.15\n",
    "from math import pi\n",
    "def perimeter(r):\n",
    "    p = 2 * pi * r\n",
    "    print('Perimeter = {0:.{1}f}cm\\u00b2'.format(p,2))\n",
    "    \n",
    "perimeter(3)"
   ]
  },
  {
   "cell_type": "markdown",
   "metadata": {},
   "source": [
    "# EXERSICES PROBLEMS:"
   ]
  },
  {
   "cell_type": "code",
   "execution_count": 1,
   "metadata": {},
   "outputs": [
    {
     "name": "stdout",
     "output_type": "stream",
     "text": [
      "Enter a name : secrat\n",
      "Enter a name : cia\n",
      "enter the lst: ['cia']\n",
      "Enter a name : secrat\n",
      "Enter a name : mi6\n",
      "enter the lst: ['cia', 'mi6']\n",
      "Enter a name : is1\n",
      "enter the lst: ['cia', 'mi6', 'is1']\n"
     ]
    }
   ],
   "source": [
    "##PROBLEM3.24\n",
    "def et():\n",
    "    x = []\n",
    "    y=['cia','mi6','is1']\n",
    "    for i in range(5):\n",
    "        lst = str(input(\"Enter a name : \"))\n",
    "        if lst in y:\n",
    "            x.append(lst)\n",
    "            print(\"enter the lst:\",x)\n",
    "et()"
   ]
  },
  {
   "cell_type": "code",
   "execution_count": 2,
   "metadata": {
    "scrolled": true
   },
   "outputs": [
    {
     "name": "stdout",
     "output_type": "stream",
     "text": [
      "enter your name:Ellie\n",
      "enter your name:steve\n",
      "enter your name:sam\n",
      "enter your name:Gavin\n",
      "enter your name:oven\n",
      "['Ellie', 'steve', 'sam', 'Gavin', 'oven']\n",
      "Ellie\n",
      "Gavin\n"
     ]
    }
   ],
   "source": [
    "##problem3.25\n",
    "def name():\n",
    "lst=['','','','','']\n",
    "for i in range(5):\n",
    "    lst[i]=input(\"enter your name:\")\n",
    "print(lst)         \n",
    "for word in lst:\n",
    "    if word[0]>='A'and word[0]<='M':\n",
    "        print(word)\n",
    "name()    "
   ]
  },
  {
   "cell_type": "code",
   "execution_count": 8,
   "metadata": {},
   "outputs": [
    {
     "name": "stdout",
     "output_type": "stream",
     "text": [
      "enter your name:salman\n",
      "enter your name:osama\n",
      "enter your name:ammna\n",
      "enter your name:rabia\n",
      "['salman', 'osama', 'ammna', 'rabia']\n",
      "First name of list: salman\n",
      "Last name of the list: rabia\n"
     ]
    }
   ],
   "source": [
    "##problem3.26\n",
    "name=['','','','']\n",
    "for i in range(4):\n",
    "    name[i]=input(\"enter your name:\")\n",
    "print(name)         \n",
    "print(\"First name of list:\",name[0])\n",
    "print(\"Last name of the list:\",name[-1])"
   ]
  },
  {
   "cell_type": "code",
   "execution_count": 15,
   "metadata": {},
   "outputs": [
    {
     "name": "stdout",
     "output_type": "stream",
     "text": [
      "enter your number7\n",
      "7\n",
      "8\n",
      "9\n",
      "10\n"
     ]
    }
   ],
   "source": [
    "##problem3.27\n",
    "x=eval(input('enter your number'))\n",
    "for i in range(4):\n",
    "    print(x*i)"
   ]
  },
  {
   "cell_type": "code",
   "execution_count": 1,
   "metadata": {},
   "outputs": [
    {
     "name": "stdout",
     "output_type": "stream",
     "text": [
      "enter your number:6\n",
      "0\n",
      "1\n",
      "4\n",
      "9\n",
      "16\n",
      "25\n"
     ]
    }
   ],
   "source": [
    "##problem3.28\n",
    "x = eval(input(\"enter your number:\"))\n",
    "for i in range(x):\n",
    "    print(i**2)"
   ]
  },
  {
   "cell_type": "code",
   "execution_count": 9,
   "metadata": {},
   "outputs": [
    {
     "name": "stdout",
     "output_type": "stream",
     "text": [
      "Enter a number : 81\n",
      "1\n",
      "3\n",
      "9\n",
      "27\n",
      "81\n"
     ]
    }
   ],
   "source": [
    "##problem3.29\n",
    "x = eval(input(\"Enter a number : \"))\n",
    "for i in range(1,x+1):\n",
    "    if x%i==0:\n",
    "        print(i)"
   ]
  },
  {
   "cell_type": "code",
   "execution_count": 11,
   "metadata": {},
   "outputs": [
    {
     "name": "stdout",
     "output_type": "stream",
     "text": [
      "Enter your number : 4.5\n",
      "Enter your number : 3\n",
      "Enter your number : 3\n",
      "Enter your number : 3.5\n",
      "Equal\n"
     ]
    }
   ],
   "source": [
    "##problem3.30\n",
    "def average():\n",
    "    n1=eval(input(\"Enter your number : \"))\n",
    "    n2=eval(input(\"Enter your number : \"))\n",
    "    n3=eval(input(\"Enter your number : \"))\n",
    "    n4=eval(input(\"Enter your number : \"))\n",
    "    if (n1+n2+n3)/3==n4:\n",
    "        print(\"Equal\")\n",
    "average()"
   ]
  },
  {
   "cell_type": "code",
   "execution_count": 1,
   "metadata": {},
   "outputs": [
    {
     "name": "stdout",
     "output_type": "stream",
     "text": [
      "Enter your value of x:2.5\n",
      "Enter your value of y:4\n",
      "yes is it!\n"
     ]
    }
   ],
   "source": [
    "##problem3.31\n",
    "def inside():\n",
    "    x=eval(input(\"Enter your value of x:\"))\n",
    "    y=eval(input(\"Enter your value of y:\"))\n",
    "    if (x**2)+(y**2)<(8**2):\n",
    "        print(\"yes is it!\")\n",
    "inside()"
   ]
  },
  {
   "cell_type": "code",
   "execution_count": 14,
   "metadata": {},
   "outputs": [
    {
     "name": "stdout",
     "output_type": "stream",
     "text": [
      "Enter a word: 123456\n",
      "1\n",
      "2\n",
      "3\n",
      "4\n",
      "5\n",
      "6\n"
     ]
    }
   ],
   "source": [
    "##problem3.32\n",
    "x =(input( \"Enter a word: \"))\n",
    "for char in x: \n",
    "    print(char)"
   ]
  },
  {
   "cell_type": "code",
   "execution_count": 21,
   "metadata": {},
   "outputs": [
    {
     "data": {
      "text/plain": [
       "'raey wen yppah'"
      ]
     },
     "execution_count": 21,
     "metadata": {},
     "output_type": "execute_result"
    }
   ],
   "source": [
    "###problem3.33\n",
    "def reverse(word):\n",
    "    return word[::-1]\n",
    "reverse('happy new year')"
   ]
  },
  {
   "cell_type": "code",
   "execution_count": 30,
   "metadata": {},
   "outputs": [
    {
     "data": {
      "text/plain": [
       "6500.0"
      ]
     },
     "execution_count": 30,
     "metadata": {},
     "output_type": "execute_result"
    }
   ],
   "source": [
    "##problem3.36\n",
    "def pay(x,y):\n",
    "    ntimes=x * y\n",
    "    if y > 40:\n",
    "        ntimes=ntimes+(1.5*x)*y\n",
    "    return ntimes\n",
    "pay(40,65)"
   ]
  },
  {
   "cell_type": "code",
   "execution_count": 31,
   "metadata": {},
   "outputs": [
    {
     "data": {
      "text/plain": [
       "0.25"
      ]
     },
     "execution_count": 31,
     "metadata": {},
     "output_type": "execute_result"
    }
   ],
   "source": [
    "##problem3.37\n",
    "def prob(n):\n",
    "    return 2**(-n)\n",
    "prob(2)"
   ]
  },
  {
   "cell_type": "code",
   "execution_count": 32,
   "metadata": {},
   "outputs": [
    {
     "data": {
      "text/plain": [
       "'4123'"
      ]
     },
     "execution_count": 32,
     "metadata": {},
     "output_type": "execute_result"
    }
   ],
   "source": [
    "##problem3.38\n",
    "def reverse(num):\n",
    "    return num[::-1]\n",
    "reverse('3214')"
   ]
  },
  {
   "cell_type": "code",
   "execution_count": 73,
   "metadata": {},
   "outputs": [
    {
     "name": "stdout",
     "output_type": "stream",
     "text": [
      "The slope is infinity and the distance is 2.0\n"
     ]
    }
   ],
   "source": [
    "##problem3.39\n",
    "import math\n",
    "def points(x1,y1,x2,y2):\n",
    "    distance = str(math.sqrt((x1-x2)**2+(y1-y2)**2))\n",
    "    if(x1==x2):\n",
    "        slope = \"infinity\"\n",
    "    else:\n",
    "        slope = str((y2-y1)/(x2-x1))\n",
    "    print(\"The slope is \"+slope+\" and the distance is \"+distance)\n",
    "\n",
    "points(3,4,3,6)"
   ]
  },
  {
   "cell_type": "code",
   "execution_count": 62,
   "metadata": {},
   "outputs": [
    {
     "data": {
      "text/plain": [
       "('we', 'tue')"
      ]
     },
     "execution_count": 62,
     "metadata": {},
     "output_type": "execute_result"
    }
   ],
   "source": [
    "##problem3.40\n",
    "def reverse(x,y):\n",
    "    return (x[:2],y[:3])\n",
    "reverse('wednesday','tuesday')"
   ]
  },
  {
   "cell_type": "code",
   "execution_count": 51,
   "metadata": {},
   "outputs": [
    {
     "name": "stdout",
     "output_type": "stream",
     "text": [
      "False\n",
      "True\n"
     ]
    }
   ],
   "source": [
    "##problem3.41\n",
    "def collision(x1,y1,r1,x2,y2,r2):\n",
    "    if(math.sqrt((x1-x2)**2+(y1-y2)**2) > r1+r2):\n",
    "        print('False')\n",
    "    else:\n",
    "        print('True')\n",
    "collision(0, 0, 3, 0, 7, 3)\n",
    "collision(0, 0, 1.6, 2, 2, 1.6)"
   ]
  },
  {
   "cell_type": "code",
   "execution_count": 60,
   "metadata": {},
   "outputs": [
    {
     "data": {
      "text/plain": [
       "'mohsin ,A'"
      ]
     },
     "execution_count": 60,
     "metadata": {},
     "output_type": "execute_result"
    }
   ],
   "source": [
    "##problem3.41\n",
    "def lastF(fname,lname):\n",
    "    return fname+\" ,\"+lname[0]\n",
    "lastF('mohsin','Alam')"
   ]
  },
  {
   "cell_type": "code",
   "execution_count": 63,
   "metadata": {},
   "outputs": [
    {
     "name": "stdout",
     "output_type": "stream",
     "text": [
      "90.0\n",
      "60.0\n",
      "87.0\n",
      "11.0\n"
     ]
    }
   ],
   "source": [
    "##problem3.42\n",
    "def avg(list):\n",
    "    for lst in list:\n",
    "        print(sum(lst)/len(lst))\n",
    "avg([[95,92,86,87],[66,54],[89,72,100],[33,0,0]])"
   ]
  },
  {
   "cell_type": "code",
   "execution_count": 65,
   "metadata": {},
   "outputs": [
    {
     "name": "stdout",
     "output_type": "stream",
     "text": [
      "True\n",
      "False\n"
     ]
    }
   ],
   "source": [
    "##problem3.43\n",
    "import math\n",
    "def hit(x1,y1,r,x2,y2):\n",
    "    if(math.sqrt((x1-x2)**2+(y1-y2)**2) > r):\n",
    "        print(False)\n",
    "    else:\n",
    "        print(True)\n",
    "hit(0, 0, 3, 3, 0)\n",
    "hit(0, 0, 3, 4, 0)"
   ]
  },
  {
   "cell_type": "code",
   "execution_count": 72,
   "metadata": {},
   "outputs": [
    {
     "name": "stdout",
     "output_type": "stream",
     "text": [
      "distance is :1.70km\n"
     ]
    }
   ],
   "source": [
    "##problem3.44\n",
    "def distance(x):\n",
    "    d=x*(340.29/1000)\n",
    "    print(\"distance is :{0:.{1}f}km\".format(d,2))\n",
    "distance(5)"
   ]
  },
  {
   "cell_type": "code",
   "execution_count": null,
   "metadata": {},
   "outputs": [],
   "source": []
  }
 ],
 "metadata": {
  "kernelspec": {
   "display_name": "Python 3",
   "language": "python",
   "name": "python3"
  },
  "language_info": {
   "codemirror_mode": {
    "name": "ipython",
    "version": 3
   },
   "file_extension": ".py",
   "mimetype": "text/x-python",
   "name": "python",
   "nbconvert_exporter": "python",
   "pygments_lexer": "ipython3",
   "version": "3.7.3"
  }
 },
 "nbformat": 4,
 "nbformat_minor": 2
}
